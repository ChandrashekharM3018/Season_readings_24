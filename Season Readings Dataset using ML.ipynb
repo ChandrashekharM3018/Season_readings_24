{
 "cells": [
  {
   "cell_type": "markdown",
   "metadata": {},
   "source": [
    "# Season Reading Dataset"
   ]
  },
  {
   "cell_type": "markdown",
   "metadata": {},
   "source": [
    "## (1) Using KNN "
   ]
  },
  {
   "cell_type": "code",
   "execution_count": 1,
   "metadata": {},
   "outputs": [],
   "source": [
    "import pandas as pd\n",
    "import numpy as np\n",
    "import seaborn as sns"
   ]
  },
  {
   "cell_type": "code",
   "execution_count": 2,
   "metadata": {},
   "outputs": [
    {
     "data": {
      "text/plain": [
       "'C:\\\\Users\\\\CHANDRU'"
      ]
     },
     "execution_count": 2,
     "metadata": {},
     "output_type": "execute_result"
    }
   ],
   "source": [
    "pwd"
   ]
  },
  {
   "cell_type": "code",
   "execution_count": 3,
   "metadata": {},
   "outputs": [],
   "source": [
    "train = pd.read_csv(r'C:/Users/CHANDRU/Desktop/DS/sensor_readings_24.csv')"
   ]
  },
  {
   "cell_type": "code",
   "execution_count": 4,
   "metadata": {},
   "outputs": [
    {
     "data": {
      "text/html": [
       "<div>\n",
       "<style scoped>\n",
       "    .dataframe tbody tr th:only-of-type {\n",
       "        vertical-align: middle;\n",
       "    }\n",
       "\n",
       "    .dataframe tbody tr th {\n",
       "        vertical-align: top;\n",
       "    }\n",
       "\n",
       "    .dataframe thead th {\n",
       "        text-align: right;\n",
       "    }\n",
       "</style>\n",
       "<table border=\"1\" class=\"dataframe\">\n",
       "  <thead>\n",
       "    <tr style=\"text-align: right;\">\n",
       "      <th></th>\n",
       "      <th>0.438</th>\n",
       "      <th>0.498</th>\n",
       "      <th>3.625</th>\n",
       "      <th>3.645</th>\n",
       "      <th>5.000</th>\n",
       "      <th>2.918</th>\n",
       "      <th>5.000.1</th>\n",
       "      <th>2.351</th>\n",
       "      <th>2.332</th>\n",
       "      <th>2.643</th>\n",
       "      <th>...</th>\n",
       "      <th>0.593</th>\n",
       "      <th>0.502</th>\n",
       "      <th>0.493</th>\n",
       "      <th>0.504</th>\n",
       "      <th>0.445</th>\n",
       "      <th>0.431</th>\n",
       "      <th>0.444</th>\n",
       "      <th>0.440</th>\n",
       "      <th>0.429</th>\n",
       "      <th>Slight-Right-Turn</th>\n",
       "    </tr>\n",
       "  </thead>\n",
       "  <tbody>\n",
       "    <tr>\n",
       "      <th>0</th>\n",
       "      <td>0.438</td>\n",
       "      <td>0.498</td>\n",
       "      <td>3.625</td>\n",
       "      <td>3.648</td>\n",
       "      <td>5.0</td>\n",
       "      <td>2.918</td>\n",
       "      <td>5.0</td>\n",
       "      <td>2.637</td>\n",
       "      <td>2.332</td>\n",
       "      <td>2.649</td>\n",
       "      <td>...</td>\n",
       "      <td>0.592</td>\n",
       "      <td>0.502</td>\n",
       "      <td>0.493</td>\n",
       "      <td>0.504</td>\n",
       "      <td>0.449</td>\n",
       "      <td>0.431</td>\n",
       "      <td>0.444</td>\n",
       "      <td>0.443</td>\n",
       "      <td>0.429</td>\n",
       "      <td>Slight-Right-Turn</td>\n",
       "    </tr>\n",
       "    <tr>\n",
       "      <th>1</th>\n",
       "      <td>0.438</td>\n",
       "      <td>0.498</td>\n",
       "      <td>3.625</td>\n",
       "      <td>3.629</td>\n",
       "      <td>5.0</td>\n",
       "      <td>2.918</td>\n",
       "      <td>5.0</td>\n",
       "      <td>2.637</td>\n",
       "      <td>2.334</td>\n",
       "      <td>2.643</td>\n",
       "      <td>...</td>\n",
       "      <td>0.593</td>\n",
       "      <td>0.502</td>\n",
       "      <td>0.493</td>\n",
       "      <td>0.504</td>\n",
       "      <td>0.449</td>\n",
       "      <td>0.431</td>\n",
       "      <td>0.444</td>\n",
       "      <td>0.446</td>\n",
       "      <td>0.429</td>\n",
       "      <td>Slight-Right-Turn</td>\n",
       "    </tr>\n",
       "    <tr>\n",
       "      <th>2</th>\n",
       "      <td>0.437</td>\n",
       "      <td>0.501</td>\n",
       "      <td>3.625</td>\n",
       "      <td>3.626</td>\n",
       "      <td>5.0</td>\n",
       "      <td>2.918</td>\n",
       "      <td>5.0</td>\n",
       "      <td>2.353</td>\n",
       "      <td>2.334</td>\n",
       "      <td>2.642</td>\n",
       "      <td>...</td>\n",
       "      <td>0.593</td>\n",
       "      <td>0.502</td>\n",
       "      <td>0.493</td>\n",
       "      <td>0.504</td>\n",
       "      <td>0.449</td>\n",
       "      <td>0.431</td>\n",
       "      <td>0.444</td>\n",
       "      <td>0.444</td>\n",
       "      <td>0.429</td>\n",
       "      <td>Slight-Right-Turn</td>\n",
       "    </tr>\n",
       "    <tr>\n",
       "      <th>3</th>\n",
       "      <td>0.438</td>\n",
       "      <td>0.498</td>\n",
       "      <td>3.626</td>\n",
       "      <td>3.629</td>\n",
       "      <td>5.0</td>\n",
       "      <td>2.918</td>\n",
       "      <td>5.0</td>\n",
       "      <td>2.640</td>\n",
       "      <td>2.334</td>\n",
       "      <td>2.639</td>\n",
       "      <td>...</td>\n",
       "      <td>0.592</td>\n",
       "      <td>0.502</td>\n",
       "      <td>0.493</td>\n",
       "      <td>0.504</td>\n",
       "      <td>0.449</td>\n",
       "      <td>0.431</td>\n",
       "      <td>0.444</td>\n",
       "      <td>0.441</td>\n",
       "      <td>0.429</td>\n",
       "      <td>Slight-Right-Turn</td>\n",
       "    </tr>\n",
       "    <tr>\n",
       "      <th>4</th>\n",
       "      <td>0.439</td>\n",
       "      <td>0.498</td>\n",
       "      <td>3.626</td>\n",
       "      <td>3.629</td>\n",
       "      <td>5.0</td>\n",
       "      <td>2.918</td>\n",
       "      <td>5.0</td>\n",
       "      <td>2.633</td>\n",
       "      <td>2.334</td>\n",
       "      <td>2.645</td>\n",
       "      <td>...</td>\n",
       "      <td>0.589</td>\n",
       "      <td>0.502</td>\n",
       "      <td>0.493</td>\n",
       "      <td>0.504</td>\n",
       "      <td>0.446</td>\n",
       "      <td>0.431</td>\n",
       "      <td>0.444</td>\n",
       "      <td>0.444</td>\n",
       "      <td>0.430</td>\n",
       "      <td>Slight-Right-Turn</td>\n",
       "    </tr>\n",
       "  </tbody>\n",
       "</table>\n",
       "<p>5 rows × 25 columns</p>\n",
       "</div>"
      ],
      "text/plain": [
       "   0.438  0.498  3.625  3.645  5.000  2.918  5.000.1  2.351  2.332  2.643  \\\n",
       "0  0.438  0.498  3.625  3.648    5.0  2.918      5.0  2.637  2.332  2.649   \n",
       "1  0.438  0.498  3.625  3.629    5.0  2.918      5.0  2.637  2.334  2.643   \n",
       "2  0.437  0.501  3.625  3.626    5.0  2.918      5.0  2.353  2.334  2.642   \n",
       "3  0.438  0.498  3.626  3.629    5.0  2.918      5.0  2.640  2.334  2.639   \n",
       "4  0.439  0.498  3.626  3.629    5.0  2.918      5.0  2.633  2.334  2.645   \n",
       "\n",
       "   ...  0.593  0.502  0.493  0.504  0.445  0.431  0.444  0.440  0.429  \\\n",
       "0  ...  0.592  0.502  0.493  0.504  0.449  0.431  0.444  0.443  0.429   \n",
       "1  ...  0.593  0.502  0.493  0.504  0.449  0.431  0.444  0.446  0.429   \n",
       "2  ...  0.593  0.502  0.493  0.504  0.449  0.431  0.444  0.444  0.429   \n",
       "3  ...  0.592  0.502  0.493  0.504  0.449  0.431  0.444  0.441  0.429   \n",
       "4  ...  0.589  0.502  0.493  0.504  0.446  0.431  0.444  0.444  0.430   \n",
       "\n",
       "   Slight-Right-Turn  \n",
       "0  Slight-Right-Turn  \n",
       "1  Slight-Right-Turn  \n",
       "2  Slight-Right-Turn  \n",
       "3  Slight-Right-Turn  \n",
       "4  Slight-Right-Turn  \n",
       "\n",
       "[5 rows x 25 columns]"
      ]
     },
     "execution_count": 4,
     "metadata": {},
     "output_type": "execute_result"
    }
   ],
   "source": [
    "train.head()"
   ]
  },
  {
   "cell_type": "code",
   "execution_count": 5,
   "metadata": {},
   "outputs": [
    {
     "data": {
      "text/html": [
       "<div>\n",
       "<style scoped>\n",
       "    .dataframe tbody tr th:only-of-type {\n",
       "        vertical-align: middle;\n",
       "    }\n",
       "\n",
       "    .dataframe tbody tr th {\n",
       "        vertical-align: top;\n",
       "    }\n",
       "\n",
       "    .dataframe thead th {\n",
       "        text-align: right;\n",
       "    }\n",
       "</style>\n",
       "<table border=\"1\" class=\"dataframe\">\n",
       "  <thead>\n",
       "    <tr style=\"text-align: right;\">\n",
       "      <th></th>\n",
       "      <th>0.438</th>\n",
       "      <th>0.498</th>\n",
       "      <th>3.625</th>\n",
       "      <th>3.645</th>\n",
       "      <th>5.000</th>\n",
       "      <th>2.918</th>\n",
       "      <th>5.000.1</th>\n",
       "      <th>2.351</th>\n",
       "      <th>2.332</th>\n",
       "      <th>2.643</th>\n",
       "      <th>...</th>\n",
       "      <th>0.593</th>\n",
       "      <th>0.502</th>\n",
       "      <th>0.493</th>\n",
       "      <th>0.504</th>\n",
       "      <th>0.445</th>\n",
       "      <th>0.431</th>\n",
       "      <th>0.444</th>\n",
       "      <th>0.440</th>\n",
       "      <th>0.429</th>\n",
       "      <th>Slight-Right-Turn</th>\n",
       "    </tr>\n",
       "  </thead>\n",
       "  <tbody>\n",
       "    <tr>\n",
       "      <th>5450</th>\n",
       "      <td>0.910</td>\n",
       "      <td>5.000</td>\n",
       "      <td>3.997</td>\n",
       "      <td>2.785</td>\n",
       "      <td>2.770</td>\n",
       "      <td>2.572</td>\n",
       "      <td>2.433</td>\n",
       "      <td>1.087</td>\n",
       "      <td>1.772</td>\n",
       "      <td>1.040</td>\n",
       "      <td>...</td>\n",
       "      <td>0.660</td>\n",
       "      <td>0.648</td>\n",
       "      <td>0.657</td>\n",
       "      <td>0.686</td>\n",
       "      <td>5.000</td>\n",
       "      <td>1.045</td>\n",
       "      <td>5.0</td>\n",
       "      <td>5.0</td>\n",
       "      <td>1.562</td>\n",
       "      <td>Move-Forward</td>\n",
       "    </tr>\n",
       "    <tr>\n",
       "      <th>5451</th>\n",
       "      <td>0.926</td>\n",
       "      <td>5.000</td>\n",
       "      <td>4.015</td>\n",
       "      <td>2.792</td>\n",
       "      <td>2.777</td>\n",
       "      <td>2.571</td>\n",
       "      <td>1.768</td>\n",
       "      <td>1.071</td>\n",
       "      <td>1.762</td>\n",
       "      <td>1.021</td>\n",
       "      <td>...</td>\n",
       "      <td>0.652</td>\n",
       "      <td>0.640</td>\n",
       "      <td>0.649</td>\n",
       "      <td>1.593</td>\n",
       "      <td>1.616</td>\n",
       "      <td>1.058</td>\n",
       "      <td>5.0</td>\n",
       "      <td>5.0</td>\n",
       "      <td>1.085</td>\n",
       "      <td>Sharp-Right-Turn</td>\n",
       "    </tr>\n",
       "    <tr>\n",
       "      <th>5452</th>\n",
       "      <td>0.937</td>\n",
       "      <td>5.000</td>\n",
       "      <td>4.034</td>\n",
       "      <td>2.799</td>\n",
       "      <td>2.784</td>\n",
       "      <td>2.571</td>\n",
       "      <td>1.754</td>\n",
       "      <td>1.053</td>\n",
       "      <td>1.752</td>\n",
       "      <td>1.002</td>\n",
       "      <td>...</td>\n",
       "      <td>0.648</td>\n",
       "      <td>0.633</td>\n",
       "      <td>0.642</td>\n",
       "      <td>0.741</td>\n",
       "      <td>5.000</td>\n",
       "      <td>1.065</td>\n",
       "      <td>5.0</td>\n",
       "      <td>5.0</td>\n",
       "      <td>1.105</td>\n",
       "      <td>Sharp-Right-Turn</td>\n",
       "    </tr>\n",
       "    <tr>\n",
       "      <th>5453</th>\n",
       "      <td>0.945</td>\n",
       "      <td>4.052</td>\n",
       "      <td>4.052</td>\n",
       "      <td>2.809</td>\n",
       "      <td>2.791</td>\n",
       "      <td>2.441</td>\n",
       "      <td>1.757</td>\n",
       "      <td>1.034</td>\n",
       "      <td>1.743</td>\n",
       "      <td>0.983</td>\n",
       "      <td>...</td>\n",
       "      <td>0.641</td>\n",
       "      <td>0.626</td>\n",
       "      <td>0.635</td>\n",
       "      <td>0.754</td>\n",
       "      <td>5.000</td>\n",
       "      <td>1.076</td>\n",
       "      <td>5.0</td>\n",
       "      <td>5.0</td>\n",
       "      <td>1.118</td>\n",
       "      <td>Move-Forward</td>\n",
       "    </tr>\n",
       "    <tr>\n",
       "      <th>5454</th>\n",
       "      <td>0.950</td>\n",
       "      <td>4.066</td>\n",
       "      <td>5.000</td>\n",
       "      <td>2.819</td>\n",
       "      <td>2.798</td>\n",
       "      <td>2.570</td>\n",
       "      <td>2.422</td>\n",
       "      <td>1.016</td>\n",
       "      <td>1.739</td>\n",
       "      <td>0.964</td>\n",
       "      <td>...</td>\n",
       "      <td>0.635</td>\n",
       "      <td>0.618</td>\n",
       "      <td>0.628</td>\n",
       "      <td>0.776</td>\n",
       "      <td>5.000</td>\n",
       "      <td>1.083</td>\n",
       "      <td>5.0</td>\n",
       "      <td>5.0</td>\n",
       "      <td>1.168</td>\n",
       "      <td>Sharp-Right-Turn</td>\n",
       "    </tr>\n",
       "  </tbody>\n",
       "</table>\n",
       "<p>5 rows × 25 columns</p>\n",
       "</div>"
      ],
      "text/plain": [
       "      0.438  0.498  3.625  3.645  5.000  2.918  5.000.1  2.351  2.332  2.643  \\\n",
       "5450  0.910  5.000  3.997  2.785  2.770  2.572    2.433  1.087  1.772  1.040   \n",
       "5451  0.926  5.000  4.015  2.792  2.777  2.571    1.768  1.071  1.762  1.021   \n",
       "5452  0.937  5.000  4.034  2.799  2.784  2.571    1.754  1.053  1.752  1.002   \n",
       "5453  0.945  4.052  4.052  2.809  2.791  2.441    1.757  1.034  1.743  0.983   \n",
       "5454  0.950  4.066  5.000  2.819  2.798  2.570    2.422  1.016  1.739  0.964   \n",
       "\n",
       "      ...  0.593  0.502  0.493  0.504  0.445  0.431  0.444  0.440  0.429  \\\n",
       "5450  ...  0.660  0.648  0.657  0.686  5.000  1.045    5.0    5.0  1.562   \n",
       "5451  ...  0.652  0.640  0.649  1.593  1.616  1.058    5.0    5.0  1.085   \n",
       "5452  ...  0.648  0.633  0.642  0.741  5.000  1.065    5.0    5.0  1.105   \n",
       "5453  ...  0.641  0.626  0.635  0.754  5.000  1.076    5.0    5.0  1.118   \n",
       "5454  ...  0.635  0.618  0.628  0.776  5.000  1.083    5.0    5.0  1.168   \n",
       "\n",
       "      Slight-Right-Turn  \n",
       "5450       Move-Forward  \n",
       "5451   Sharp-Right-Turn  \n",
       "5452   Sharp-Right-Turn  \n",
       "5453       Move-Forward  \n",
       "5454   Sharp-Right-Turn  \n",
       "\n",
       "[5 rows x 25 columns]"
      ]
     },
     "execution_count": 5,
     "metadata": {},
     "output_type": "execute_result"
    }
   ],
   "source": [
    "train.tail()"
   ]
  },
  {
   "cell_type": "code",
   "execution_count": 6,
   "metadata": {},
   "outputs": [
    {
     "data": {
      "text/html": [
       "<div>\n",
       "<style scoped>\n",
       "    .dataframe tbody tr th:only-of-type {\n",
       "        vertical-align: middle;\n",
       "    }\n",
       "\n",
       "    .dataframe tbody tr th {\n",
       "        vertical-align: top;\n",
       "    }\n",
       "\n",
       "    .dataframe thead th {\n",
       "        text-align: right;\n",
       "    }\n",
       "</style>\n",
       "<table border=\"1\" class=\"dataframe\">\n",
       "  <thead>\n",
       "    <tr style=\"text-align: right;\">\n",
       "      <th></th>\n",
       "      <th>0.438</th>\n",
       "      <th>0.498</th>\n",
       "      <th>3.625</th>\n",
       "      <th>3.645</th>\n",
       "      <th>5.000</th>\n",
       "      <th>2.918</th>\n",
       "      <th>5.000.1</th>\n",
       "      <th>2.351</th>\n",
       "      <th>2.332</th>\n",
       "      <th>2.643</th>\n",
       "      <th>...</th>\n",
       "      <th>1.744</th>\n",
       "      <th>0.593</th>\n",
       "      <th>0.502</th>\n",
       "      <th>0.493</th>\n",
       "      <th>0.504</th>\n",
       "      <th>0.445</th>\n",
       "      <th>0.431</th>\n",
       "      <th>0.444</th>\n",
       "      <th>0.440</th>\n",
       "      <th>0.429</th>\n",
       "    </tr>\n",
       "  </thead>\n",
       "  <tbody>\n",
       "    <tr>\n",
       "      <th>count</th>\n",
       "      <td>5455.000000</td>\n",
       "      <td>5455.000000</td>\n",
       "      <td>5455.000000</td>\n",
       "      <td>5455.000000</td>\n",
       "      <td>5455.000000</td>\n",
       "      <td>5455.000000</td>\n",
       "      <td>5455.000000</td>\n",
       "      <td>5455.000000</td>\n",
       "      <td>5455.000000</td>\n",
       "      <td>5455.000000</td>\n",
       "      <td>...</td>\n",
       "      <td>5455.000000</td>\n",
       "      <td>5455.000000</td>\n",
       "      <td>5455.000000</td>\n",
       "      <td>5455.00000</td>\n",
       "      <td>5455.000000</td>\n",
       "      <td>5455.000000</td>\n",
       "      <td>5455.000000</td>\n",
       "      <td>5455.000000</td>\n",
       "      <td>5455.000000</td>\n",
       "      <td>5455.000000</td>\n",
       "    </tr>\n",
       "    <tr>\n",
       "      <th>mean</th>\n",
       "      <td>1.471807</td>\n",
       "      <td>2.327378</td>\n",
       "      <td>2.489139</td>\n",
       "      <td>2.796346</td>\n",
       "      <td>2.958178</td>\n",
       "      <td>2.893068</td>\n",
       "      <td>3.350811</td>\n",
       "      <td>2.540431</td>\n",
       "      <td>3.125767</td>\n",
       "      <td>2.832421</td>\n",
       "      <td>...</td>\n",
       "      <td>2.205857</td>\n",
       "      <td>1.202223</td>\n",
       "      <td>0.989921</td>\n",
       "      <td>0.91035</td>\n",
       "      <td>1.058212</td>\n",
       "      <td>1.076436</td>\n",
       "      <td>1.016030</td>\n",
       "      <td>1.778279</td>\n",
       "      <td>1.555250</td>\n",
       "      <td>1.578719</td>\n",
       "    </tr>\n",
       "    <tr>\n",
       "      <th>std</th>\n",
       "      <td>0.802753</td>\n",
       "      <td>1.410058</td>\n",
       "      <td>1.247454</td>\n",
       "      <td>1.309438</td>\n",
       "      <td>1.339062</td>\n",
       "      <td>1.282693</td>\n",
       "      <td>1.413645</td>\n",
       "      <td>1.111653</td>\n",
       "      <td>1.357047</td>\n",
       "      <td>1.307960</td>\n",
       "      <td>...</td>\n",
       "      <td>1.715580</td>\n",
       "      <td>1.098638</td>\n",
       "      <td>0.942138</td>\n",
       "      <td>0.88959</td>\n",
       "      <td>1.144711</td>\n",
       "      <td>1.141570</td>\n",
       "      <td>0.887485</td>\n",
       "      <td>1.571726</td>\n",
       "      <td>1.291478</td>\n",
       "      <td>1.150480</td>\n",
       "    </tr>\n",
       "    <tr>\n",
       "      <th>min</th>\n",
       "      <td>0.400000</td>\n",
       "      <td>0.437000</td>\n",
       "      <td>0.470000</td>\n",
       "      <td>0.833000</td>\n",
       "      <td>1.120000</td>\n",
       "      <td>1.114000</td>\n",
       "      <td>1.122000</td>\n",
       "      <td>0.859000</td>\n",
       "      <td>0.836000</td>\n",
       "      <td>0.810000</td>\n",
       "      <td>...</td>\n",
       "      <td>0.495000</td>\n",
       "      <td>0.424000</td>\n",
       "      <td>0.373000</td>\n",
       "      <td>0.35400</td>\n",
       "      <td>0.340000</td>\n",
       "      <td>0.355000</td>\n",
       "      <td>0.380000</td>\n",
       "      <td>0.370000</td>\n",
       "      <td>0.367000</td>\n",
       "      <td>0.377000</td>\n",
       "    </tr>\n",
       "    <tr>\n",
       "      <th>25%</th>\n",
       "      <td>0.921000</td>\n",
       "      <td>1.362000</td>\n",
       "      <td>1.538500</td>\n",
       "      <td>1.731000</td>\n",
       "      <td>1.774000</td>\n",
       "      <td>1.785500</td>\n",
       "      <td>1.930500</td>\n",
       "      <td>1.618000</td>\n",
       "      <td>1.799500</td>\n",
       "      <td>1.636000</td>\n",
       "      <td>...</td>\n",
       "      <td>0.860000</td>\n",
       "      <td>0.690500</td>\n",
       "      <td>0.581000</td>\n",
       "      <td>0.53000</td>\n",
       "      <td>0.523500</td>\n",
       "      <td>0.542000</td>\n",
       "      <td>0.567000</td>\n",
       "      <td>0.743000</td>\n",
       "      <td>0.792000</td>\n",
       "      <td>0.884000</td>\n",
       "    </tr>\n",
       "    <tr>\n",
       "      <th>50%</th>\n",
       "      <td>1.335000</td>\n",
       "      <td>1.905000</td>\n",
       "      <td>2.064000</td>\n",
       "      <td>2.457000</td>\n",
       "      <td>2.667000</td>\n",
       "      <td>2.682000</td>\n",
       "      <td>3.225000</td>\n",
       "      <td>2.171000</td>\n",
       "      <td>2.802000</td>\n",
       "      <td>2.679000</td>\n",
       "      <td>...</td>\n",
       "      <td>1.328000</td>\n",
       "      <td>0.803000</td>\n",
       "      <td>0.738000</td>\n",
       "      <td>0.68500</td>\n",
       "      <td>0.691000</td>\n",
       "      <td>0.693000</td>\n",
       "      <td>0.764000</td>\n",
       "      <td>1.031000</td>\n",
       "      <td>1.071000</td>\n",
       "      <td>1.289000</td>\n",
       "    </tr>\n",
       "    <tr>\n",
       "      <th>75%</th>\n",
       "      <td>1.814000</td>\n",
       "      <td>2.683000</td>\n",
       "      <td>2.739000</td>\n",
       "      <td>4.094000</td>\n",
       "      <td>4.314000</td>\n",
       "      <td>3.835500</td>\n",
       "      <td>5.000000</td>\n",
       "      <td>3.193000</td>\n",
       "      <td>5.000000</td>\n",
       "      <td>3.526500</td>\n",
       "      <td>...</td>\n",
       "      <td>4.436500</td>\n",
       "      <td>1.159000</td>\n",
       "      <td>0.913000</td>\n",
       "      <td>0.83700</td>\n",
       "      <td>0.857000</td>\n",
       "      <td>0.863000</td>\n",
       "      <td>1.002500</td>\n",
       "      <td>2.068500</td>\n",
       "      <td>1.560000</td>\n",
       "      <td>1.657500</td>\n",
       "    </tr>\n",
       "    <tr>\n",
       "      <th>max</th>\n",
       "      <td>5.000000</td>\n",
       "      <td>5.025000</td>\n",
       "      <td>5.029000</td>\n",
       "      <td>5.017000</td>\n",
       "      <td>5.000000</td>\n",
       "      <td>5.005000</td>\n",
       "      <td>5.008000</td>\n",
       "      <td>5.087000</td>\n",
       "      <td>5.000000</td>\n",
       "      <td>5.022000</td>\n",
       "      <td>...</td>\n",
       "      <td>5.000000</td>\n",
       "      <td>5.000000</td>\n",
       "      <td>5.000000</td>\n",
       "      <td>5.00000</td>\n",
       "      <td>5.000000</td>\n",
       "      <td>5.000000</td>\n",
       "      <td>5.000000</td>\n",
       "      <td>5.000000</td>\n",
       "      <td>5.000000</td>\n",
       "      <td>5.000000</td>\n",
       "    </tr>\n",
       "  </tbody>\n",
       "</table>\n",
       "<p>8 rows × 24 columns</p>\n",
       "</div>"
      ],
      "text/plain": [
       "             0.438        0.498        3.625        3.645        5.000  \\\n",
       "count  5455.000000  5455.000000  5455.000000  5455.000000  5455.000000   \n",
       "mean      1.471807     2.327378     2.489139     2.796346     2.958178   \n",
       "std       0.802753     1.410058     1.247454     1.309438     1.339062   \n",
       "min       0.400000     0.437000     0.470000     0.833000     1.120000   \n",
       "25%       0.921000     1.362000     1.538500     1.731000     1.774000   \n",
       "50%       1.335000     1.905000     2.064000     2.457000     2.667000   \n",
       "75%       1.814000     2.683000     2.739000     4.094000     4.314000   \n",
       "max       5.000000     5.025000     5.029000     5.017000     5.000000   \n",
       "\n",
       "             2.918      5.000.1        2.351        2.332        2.643  ...  \\\n",
       "count  5455.000000  5455.000000  5455.000000  5455.000000  5455.000000  ...   \n",
       "mean      2.893068     3.350811     2.540431     3.125767     2.832421  ...   \n",
       "std       1.282693     1.413645     1.111653     1.357047     1.307960  ...   \n",
       "min       1.114000     1.122000     0.859000     0.836000     0.810000  ...   \n",
       "25%       1.785500     1.930500     1.618000     1.799500     1.636000  ...   \n",
       "50%       2.682000     3.225000     2.171000     2.802000     2.679000  ...   \n",
       "75%       3.835500     5.000000     3.193000     5.000000     3.526500  ...   \n",
       "max       5.005000     5.008000     5.087000     5.000000     5.022000  ...   \n",
       "\n",
       "             1.744        0.593        0.502       0.493        0.504  \\\n",
       "count  5455.000000  5455.000000  5455.000000  5455.00000  5455.000000   \n",
       "mean      2.205857     1.202223     0.989921     0.91035     1.058212   \n",
       "std       1.715580     1.098638     0.942138     0.88959     1.144711   \n",
       "min       0.495000     0.424000     0.373000     0.35400     0.340000   \n",
       "25%       0.860000     0.690500     0.581000     0.53000     0.523500   \n",
       "50%       1.328000     0.803000     0.738000     0.68500     0.691000   \n",
       "75%       4.436500     1.159000     0.913000     0.83700     0.857000   \n",
       "max       5.000000     5.000000     5.000000     5.00000     5.000000   \n",
       "\n",
       "             0.445        0.431        0.444        0.440        0.429  \n",
       "count  5455.000000  5455.000000  5455.000000  5455.000000  5455.000000  \n",
       "mean      1.076436     1.016030     1.778279     1.555250     1.578719  \n",
       "std       1.141570     0.887485     1.571726     1.291478     1.150480  \n",
       "min       0.355000     0.380000     0.370000     0.367000     0.377000  \n",
       "25%       0.542000     0.567000     0.743000     0.792000     0.884000  \n",
       "50%       0.693000     0.764000     1.031000     1.071000     1.289000  \n",
       "75%       0.863000     1.002500     2.068500     1.560000     1.657500  \n",
       "max       5.000000     5.000000     5.000000     5.000000     5.000000  \n",
       "\n",
       "[8 rows x 24 columns]"
      ]
     },
     "execution_count": 6,
     "metadata": {},
     "output_type": "execute_result"
    }
   ],
   "source": [
    "train.describe()"
   ]
  },
  {
   "cell_type": "code",
   "execution_count": 7,
   "metadata": {},
   "outputs": [
    {
     "data": {
      "text/plain": [
       "0.438                0\n",
       "0.498                0\n",
       "3.625                0\n",
       "3.645                0\n",
       "5.000                0\n",
       "2.918                0\n",
       "5.000.1              0\n",
       "2.351                0\n",
       "2.332                0\n",
       "2.643                0\n",
       "1.698                0\n",
       "1.687                0\n",
       "1.698.1              0\n",
       "1.717                0\n",
       "1.744                0\n",
       "0.593                0\n",
       "0.502                0\n",
       "0.493                0\n",
       "0.504                0\n",
       "0.445                0\n",
       "0.431                0\n",
       "0.444                0\n",
       "0.440                0\n",
       "0.429                0\n",
       "Slight-Right-Turn    0\n",
       "dtype: int64"
      ]
     },
     "execution_count": 7,
     "metadata": {},
     "output_type": "execute_result"
    }
   ],
   "source": [
    "train.isnull().sum()"
   ]
  },
  {
   "cell_type": "code",
   "execution_count": 8,
   "metadata": {},
   "outputs": [
    {
     "data": {
      "text/plain": [
       "Move-Forward         2205\n",
       "Sharp-Right-Turn     2097\n",
       "Slight-Right-Turn     825\n",
       "Slight-Left-Turn      328\n",
       "Name: Slight-Right-Turn, dtype: int64"
      ]
     },
     "execution_count": 8,
     "metadata": {},
     "output_type": "execute_result"
    }
   ],
   "source": [
    "train['Slight-Right-Turn'].value_counts(dropna=False)"
   ]
  },
  {
   "cell_type": "code",
   "execution_count": 9,
   "metadata": {},
   "outputs": [
    {
     "data": {
      "text/plain": [
       "(5455, 25)"
      ]
     },
     "execution_count": 9,
     "metadata": {},
     "output_type": "execute_result"
    }
   ],
   "source": [
    "train.shape"
   ]
  },
  {
   "cell_type": "code",
   "execution_count": 10,
   "metadata": {},
   "outputs": [
    {
     "data": {
      "text/plain": [
       "<matplotlib.axes._subplots.AxesSubplot at 0x1928839bcc8>"
      ]
     },
     "execution_count": 10,
     "metadata": {},
     "output_type": "execute_result"
    },
    {
     "data": {
      "image/png": "[encoded data removed]",
      "text/plain": [
       "<Figure size 432x288 with 1 Axes>"
      ]
     },
     "metadata": {
      "needs_background": "light"
     },
     "output_type": "display_data"
    }
   ],
   "source": [
    "sns.countplot(x='Slight-Right-Turn', data=train)"
   ]
  },
  {
   "cell_type": "code",
   "execution_count": 11,
   "metadata": {},
   "outputs": [],
   "source": [
    "x = train.iloc[:,:-1]\n",
    "y = train.iloc[:,-1]"
   ]
  },
  {
   "cell_type": "code",
   "execution_count": 12,
   "metadata": {},
   "outputs": [
    {
     "name": "stdout",
     "output_type": "stream",
     "text": [
      "(5455, 24)\n",
      "(5455,)\n"
     ]
    }
   ],
   "source": [
    "print(x.shape)\n",
    "print(y.shape)"
   ]
  },
  {
   "cell_type": "code",
   "execution_count": 13,
   "metadata": {},
   "outputs": [
    {
     "name": "stdout",
     "output_type": "stream",
     "text": [
      "[3 3 3 ... 1 0 1]\n"
     ]
    }
   ],
   "source": [
    "from sklearn.preprocessing import LabelEncoder\n",
    "le = LabelEncoder()\n",
    "y = le.fit_transform(y)\n",
    "print(y)"
   ]
  },
  {
   "cell_type": "code",
   "execution_count": 14,
   "metadata": {},
   "outputs": [
    {
     "data": {
      "text/plain": [
       "{0, 1, 2, 3}"
      ]
     },
     "execution_count": 14,
     "metadata": {},
     "output_type": "execute_result"
    }
   ],
   "source": [
    "set(y)"
   ]
  },
  {
   "cell_type": "code",
   "execution_count": 15,
   "metadata": {},
   "outputs": [
    {
     "name": "stdout",
     "output_type": "stream",
     "text": [
      "(3491, 24)\n",
      "(3491,)\n"
     ]
    }
   ],
   "source": [
    "from sklearn.model_selection import train_test_split\n",
    "x_1, x_test, y_1, y_test = train_test_split(x, y, test_size=0.2, random_state=0)\n",
    "x_train, x_cv, y_train, y_cv = train_test_split(x_1 , y_1, test_size=0.2, random_state=0)\n",
    "\n",
    "print(x_train.shape)\n",
    "print(y_train.shape)"
   ]
  },
  {
   "cell_type": "code",
   "execution_count": 16,
   "metadata": {},
   "outputs": [],
   "source": [
    "from sklearn.preprocessing import StandardScaler\n",
    "sc_X = StandardScaler()\n",
    "x_trainS = sc_X.fit_transform(x_train)\n",
    "x_1S = sc_X.fit_transform(x_1)\n",
    "x_cvS = sc_X.fit_transform(x_cv)\n",
    "x_testS  = sc_X.fit_transform(x_test)"
   ]
  },
  {
   "cell_type": "code",
   "execution_count": 17,
   "metadata": {},
   "outputs": [],
   "source": [
    "from sklearn.neighbors import KNeighborsClassifier\n",
    "knn = KNeighborsClassifier(n_neighbors=1)\n",
    "knn.fit(x_train, y_train)\n",
    "y_pred = knn.predict(x_test)"
   ]
  },
  {
   "cell_type": "code",
   "execution_count": 18,
   "metadata": {},
   "outputs": [
    {
     "name": "stdout",
     "output_type": "stream",
     "text": [
      "Accuracy: 0.8725939505041247\n"
     ]
    }
   ],
   "source": [
    "from sklearn.metrics import accuracy_score \n",
    "print(\"Accuracy:\",accuracy_score(y_test, y_pred))"
   ]
  },
  {
   "cell_type": "code",
   "execution_count": 19,
   "metadata": {},
   "outputs": [
    {
     "name": "stdout",
     "output_type": "stream",
     "text": [
      "Confusion Matrix : \n",
      " [[392  27   5  23]\n",
      " [ 38 376   3  10]\n",
      " [  6   1  53   0]\n",
      " [ 19   7   0 131]]\n",
      "              precision    recall  f1-score   support\n",
      "\n",
      "           0       0.86      0.88      0.87       447\n",
      "           1       0.91      0.88      0.90       427\n",
      "           2       0.87      0.88      0.88        60\n",
      "           3       0.80      0.83      0.82       157\n",
      "\n",
      "    accuracy                           0.87      1091\n",
      "   macro avg       0.86      0.87      0.86      1091\n",
      "weighted avg       0.87      0.87      0.87      1091\n",
      "\n"
     ]
    }
   ],
   "source": [
    "from sklearn.metrics import confusion_matrix \n",
    "from sklearn.metrics import classification_report \n",
    "cm = confusion_matrix(y_test, y_pred) \n",
    "print (\"Confusion Matrix : \\n\", cm) \n",
    "print(classification_report(y_test, y_pred) )"
   ]
  },
  {
   "cell_type": "markdown",
   "metadata": {},
   "source": [
    "## Using Decision tree "
   ]
  },
  {
   "cell_type": "code",
   "execution_count": 20,
   "metadata": {},
   "outputs": [
    {
     "name": "stdout",
     "output_type": "stream",
     "text": [
      "[0.8201603665521191, 0.9232531500572738, 0.9919816723940436, 0.997709049255441, 0.9965635738831615, 0.997709049255441, 0.9965635738831615, 0.9965635738831615, 0.9965635738831615, 0.997709049255441]\n"
     ]
    }
   ],
   "source": [
    "from sklearn.tree import DecisionTreeClassifier\n",
    "from sklearn.metrics import accuracy_score\n",
    "\n",
    "depthVal = [2,4,6,8,10,12,14,16,18,20]\n",
    "Acc = []\n",
    "for d in depthVal:\n",
    "  clf = DecisionTreeClassifier(criterion = 'entropy',  max_depth=d )\n",
    "  clf.fit(x_train,y_train)\n",
    "  y_pred = clf.predict(x_cv)\n",
    "  Acc.append(accuracy_score(y_pred,y_cv))\n",
    "\n",
    "print(Acc)"
   ]
  },
  {
   "cell_type": "code",
   "execution_count": 21,
   "metadata": {},
   "outputs": [
    {
     "name": "stdout",
     "output_type": "stream",
     "text": [
      "0.995417048579285\n"
     ]
    }
   ],
   "source": [
    "clf = DecisionTreeClassifier(criterion = 'entropy',max_depth=8)\n",
    "clf.fit(x_train,y_train)\n",
    "y_pred = clf.predict(x_test)\n",
    "model = (accuracy_score(y_pred,y_test))\n",
    "print(model)"
   ]
  },
  {
   "cell_type": "code",
   "execution_count": 22,
   "metadata": {},
   "outputs": [
    {
     "name": "stdout",
     "output_type": "stream",
     "text": [
      "[[444   1   1   0]\n",
      " [  0 426   0   0]\n",
      " [  0   0  59   0]\n",
      " [  3   0   0 157]]\n"
     ]
    }
   ],
   "source": [
    "from sklearn.metrics import confusion_matrix\n",
    "print(confusion_matrix(y_pred,y_test))"
   ]
  },
  {
   "cell_type": "code",
   "execution_count": 23,
   "metadata": {},
   "outputs": [
    {
     "data": {
      "text/plain": [
       "[Text(97.65, 205.35999999999999, 'X[14] <= 0.9\\nentropy = 1.714\\nsamples = 3491\\nvalue = [1403, 1349, 207, 532]'),\n",
       " Text(83.7, 181.2, 'entropy = 0.0\\nsamples = 1040\\nvalue = [0, 1040, 0, 0]'),\n",
       " Text(111.60000000000001, 181.2, 'X[18] <= 0.505\\nentropy = 1.617\\nsamples = 2451\\nvalue = [1403, 309, 207, 532]'),\n",
       " Text(27.900000000000002, 157.04, 'X[11] <= 1.184\\nentropy = 0.738\\nsamples = 531\\nvalue = [11, 77, 0, 443]'),\n",
       " Text(13.950000000000001, 132.88, 'entropy = 0.0\\nsamples = 70\\nvalue = [0, 70, 0, 0]'),\n",
       " Text(41.85, 132.88, 'X[13] <= 1.085\\nentropy = 0.276\\nsamples = 461\\nvalue = [11, 7, 0, 443]'),\n",
       " Text(27.900000000000002, 108.72, 'entropy = 0.0\\nsamples = 7\\nvalue = [0, 7, 0, 0]'),\n",
       " Text(55.800000000000004, 108.72, 'X[18] <= 0.495\\nentropy = 0.165\\nsamples = 454\\nvalue = [11, 0, 0, 443]'),\n",
       " Text(41.85, 84.56, 'entropy = 0.0\\nsamples = 414\\nvalue = [0, 0, 0, 414]'),\n",
       " Text(69.75, 84.56, 'X[19] <= 0.494\\nentropy = 0.849\\nsamples = 40\\nvalue = [11, 0, 0, 29]'),\n",
       " Text(55.800000000000004, 60.400000000000006, 'entropy = 0.0\\nsamples = 21\\nvalue = [0, 0, 0, 21]'),\n",
       " Text(83.7, 60.400000000000006, 'X[17] <= 0.502\\nentropy = 0.982\\nsamples = 19\\nvalue = [11, 0, 0, 8]'),\n",
       " Text(69.75, 36.24000000000001, 'entropy = 0.0\\nsamples = 8\\nvalue = [0, 0, 0, 8]'),\n",
       " Text(97.65, 36.24000000000001, 'entropy = 0.0\\nsamples = 11\\nvalue = [11, 0, 0, 0]'),\n",
       " Text(195.3, 157.04, 'X[11] <= 0.9\\nentropy = 1.257\\nsamples = 1920\\nvalue = [1392, 232, 207, 89]'),\n",
       " Text(181.35000000000002, 132.88, 'entropy = 0.0\\nsamples = 182\\nvalue = [0, 182, 0, 0]'),\n",
       " Text(209.25000000000003, 132.88, 'X[17] <= 0.903\\nentropy = 0.989\\nsamples = 1738\\nvalue = [1392, 50, 207, 89]'),\n",
       " Text(153.45000000000002, 108.72, 'X[13] <= 0.909\\nentropy = 0.497\\nsamples = 1363\\nvalue = [1249, 47, 0, 67]'),\n",
       " Text(125.55000000000001, 84.56, 'X[13] <= 0.903\\nentropy = 0.583\\nsamples = 48\\nvalue = [2, 43, 0, 3]'),\n",
       " Text(111.60000000000001, 60.400000000000006, 'entropy = 0.0\\nsamples = 40\\nvalue = [0, 40, 0, 0]'),\n",
       " Text(139.5, 60.400000000000006, 'X[7] <= 3.475\\nentropy = 1.561\\nsamples = 8\\nvalue = [2, 3, 0, 3]'),\n",
       " Text(125.55000000000001, 36.24000000000001, 'X[19] <= 0.609\\nentropy = 0.971\\nsamples = 5\\nvalue = [2, 3, 0, 0]'),\n",
       " Text(111.60000000000001, 12.079999999999984, 'entropy = 0.0\\nsamples = 3\\nvalue = [0, 3, 0, 0]'),\n",
       " Text(139.5, 12.079999999999984, 'entropy = 0.0\\nsamples = 2\\nvalue = [2, 0, 0, 0]'),\n",
       " Text(153.45000000000002, 36.24000000000001, 'entropy = 0.0\\nsamples = 3\\nvalue = [0, 0, 0, 3]'),\n",
       " Text(181.35000000000002, 84.56, 'X[19] <= 0.497\\nentropy = 0.31\\nsamples = 1315\\nvalue = [1247, 4, 0, 64]'),\n",
       " Text(167.4, 60.400000000000006, 'entropy = 0.0\\nsamples = 41\\nvalue = [0, 0, 0, 41]'),\n",
       " Text(195.3, 60.400000000000006, 'X[17] <= 0.494\\nentropy = 0.161\\nsamples = 1274\\nvalue = [1247, 4, 0, 23]'),\n",
       " Text(181.35000000000002, 36.24000000000001, 'entropy = 0.0\\nsamples = 23\\nvalue = [0, 0, 0, 23]'),\n",
       " Text(209.25000000000003, 36.24000000000001, 'X[11] <= 0.914\\nentropy = 0.031\\nsamples = 1251\\nvalue = [1247, 4, 0, 0]'),\n",
       " Text(195.3, 12.079999999999984, 'entropy = 0.837\\nsamples = 15\\nvalue = [11, 4, 0, 0]'),\n",
       " Text(223.20000000000002, 12.079999999999984, 'entropy = 0.0\\nsamples = 1236\\nvalue = [1236, 0, 0, 0]'),\n",
       " Text(265.05, 108.72, 'X[19] <= 0.9\\nentropy = 1.299\\nsamples = 375\\nvalue = [143, 3, 207, 22]'),\n",
       " Text(237.15, 84.56, 'X[19] <= 0.491\\nentropy = 0.722\\nsamples = 129\\nvalue = [106, 1, 0, 22]'),\n",
       " Text(223.20000000000002, 60.400000000000006, 'entropy = 0.0\\nsamples = 22\\nvalue = [0, 0, 0, 22]'),\n",
       " Text(251.10000000000002, 60.400000000000006, 'X[14] <= 0.911\\nentropy = 0.076\\nsamples = 107\\nvalue = [106, 1, 0, 0]'),\n",
       " Text(237.15, 36.24000000000001, 'entropy = 0.0\\nsamples = 1\\nvalue = [0, 1, 0, 0]'),\n",
       " Text(265.05, 36.24000000000001, 'entropy = 0.0\\nsamples = 106\\nvalue = [106, 0, 0, 0]'),\n",
       " Text(292.95000000000005, 84.56, 'X[18] <= 0.9\\nentropy = 0.677\\nsamples = 246\\nvalue = [37, 2, 207, 0]'),\n",
       " Text(279.0, 60.400000000000006, 'entropy = 0.0\\nsamples = 37\\nvalue = [37, 0, 0, 0]'),\n",
       " Text(306.90000000000003, 60.400000000000006, 'X[12] <= 0.911\\nentropy = 0.078\\nsamples = 209\\nvalue = [0, 2, 207, 0]'),\n",
       " Text(292.95000000000005, 36.24000000000001, 'entropy = 0.0\\nsamples = 2\\nvalue = [0, 2, 0, 0]'),\n",
       " Text(320.85, 36.24000000000001, 'entropy = 0.0\\nsamples = 207\\nvalue = [0, 0, 207, 0]')]"
      ]
     },
     "execution_count": 23,
     "metadata": {},
     "output_type": "execute_result"
    },
    {
     "data": {
      "image/png": "[encoded data removed]",
      "text/plain": [
       "<Figure size 432x288 with 1 Axes>"
      ]
     },
     "metadata": {
      "needs_background": "light"
     },
     "output_type": "display_data"
    }
   ],
   "source": [
    "from sklearn import tree\n",
    "tree.plot_tree(clf.fit(x_train, y_train)) "
   ]
  },
  {
   "cell_type": "code",
   "execution_count": 24,
   "metadata": {},
   "outputs": [
    {
     "name": "stdout",
     "output_type": "stream",
     "text": [
      "0.995417048579285\n"
     ]
    }
   ],
   "source": [
    "print(model)"
   ]
  },
  {
   "cell_type": "code",
   "execution_count": null,
   "metadata": {},
   "outputs": [],
   "source": []
  }
 ],
 "metadata": {
  "kernelspec": {
   "display_name": "Python 3",
   "language": "python",
   "name": "python3"
  },
  "language_info": {
   "codemirror_mode": {
    "name": "ipython",
    "version": 3
   },
   "file_extension": ".py",
   "mimetype": "text/x-python",
   "name": "python",
   "nbconvert_exporter": "python",
   "pygments_lexer": "ipython3",
   "version": "3.7.6"
  }
 },
 "nbformat": 4,
 "nbformat_minor": 4
}
